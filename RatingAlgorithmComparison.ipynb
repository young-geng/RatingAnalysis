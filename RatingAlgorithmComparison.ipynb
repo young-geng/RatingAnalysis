{
 "cells": [
  {
   "cell_type": "code",
   "execution_count": 1,
   "metadata": {
    "collapsed": false
   },
   "outputs": [],
   "source": [
    "from __future__ import division\n",
    "\n",
    "import numpy as np\n",
    "import pandas as pd\n",
    "import matplotlib\n",
    "from matplotlib import pyplot as plt\n",
    "from ggplot import *\n",
    "\n",
    "import rating_utils\n",
    "\n",
    "%matplotlib inline"
   ]
  },
  {
   "cell_type": "markdown",
   "metadata": {},
   "source": [
    "### Data processing\n",
    "We load the training data and split it into training and test set"
   ]
  },
  {
   "cell_type": "code",
   "execution_count": 2,
   "metadata": {
    "collapsed": false
   },
   "outputs": [
    {
     "name": "stdout",
     "output_type": "stream",
     "text": [
      "['Washington Wizards' 'Dallas Mavericks' 'Boston Celtics'\n",
      " 'Sacramento Kings' 'Houston Rockets' 'Memphis Grizzlies'\n",
      " 'San Antonio Spurs' 'Denver Nuggets' 'Golden State Warriors'\n",
      " 'Los Angeles Lakers' 'Indiana Pacers' 'Oklahoma City Thunder'\n",
      " 'Milwaukee Bucks' 'Chicago Bulls' 'Los Angeles Clippers' 'Utah Jazz'\n",
      " 'Miami Heat' 'Portland Trail Blazers' 'Detroit Pistons' 'Toronto Raptors'\n",
      " 'New Orleans Hornets' 'Charlotte Bobcats' 'Cleveland Cavaliers'\n",
      " 'Philadelphia 76ers' 'Atlanta Hawks' 'Phoenix Suns'\n",
      " 'Minnesota Timberwolves' 'New York Knicks' 'Orlando Magic' 'Brooklyn Nets']\n",
      "883 346\n"
     ]
    }
   ],
   "source": [
    "data = pd.read_csv('data/12-13.csv')\n",
    "\n",
    "indices = np.random.rand(len(data)) < 0.7\n",
    "\n",
    "train = data[indices].reset_index()\n",
    "test = data[~indices].reset_index()\n",
    "\n",
    "print rating_utils.get_teams(data)\n",
    "\n",
    "print len(train), len(test)"
   ]
  },
  {
   "cell_type": "markdown",
   "metadata": {},
   "source": [
    "Let's plot the score difference distribution"
   ]
  },
  {
   "cell_type": "code",
   "execution_count": 3,
   "metadata": {
    "collapsed": false
   },
   "outputs": [
    {
     "name": "stderr",
     "output_type": "stream",
     "text": [
      "/home/young/anaconda2/lib/python2.7/site-packages/matplotlib/__init__.py:872: UserWarning: axes.color_cycle is deprecated and replaced with axes.prop_cycle; please use the latter.\n",
      "  warnings.warn(self.msg_depr % (key, alt_key))\n"
     ]
    },
    {
     "data": {
      "image/png": "[encoded data removed]",
      "text/plain": [
       "<matplotlib.figure.Figure at 0x7fb4485625d0>"
      ]
     },
     "metadata": {},
     "output_type": "display_data"
    },
    {
     "data": {
      "text/plain": [
       "<ggplot: (8775767777893)>"
      ]
     },
     "execution_count": 3,
     "metadata": {},
     "output_type": "execute_result"
    }
   ],
   "source": [
    "ggplot(pd.DataFrame({'score_difference': data['HomePTS'] - data['VisitorPTS']}), aes(x='score_difference')) \\\n",
    "    + geom_histogram(fill='#33bbff', binwidth=2) \\\n",
    "    + ylab('match count')"
   ]
  },
  {
   "cell_type": "markdown",
   "metadata": {},
   "source": [
    "### 1. Random baseline\n",
    "We generate random ratings with a standard Gaussian variable. This will be the baseline for comparison."
   ]
  },
  {
   "cell_type": "code",
   "execution_count": 4,
   "metadata": {
    "collapsed": false
   },
   "outputs": [
    {
     "name": "stdout",
     "output_type": "stream",
     "text": [
      "[ 0.79567096  0.14754553  2.71883523  0.39473101 -1.8430706   0.00447958\n",
      " -0.34813816 -1.49043727 -0.42257538  1.61168059 -0.32742592  1.15271058\n",
      "  1.57718275 -0.91628591 -0.20130521  1.65651027  0.24797673 -0.98143717\n",
      "  0.78004954  0.96273178 -0.36682807 -0.28831726 -1.02841037  0.29900253\n",
      " -1.28669059  1.87437749  1.5011294   1.7656079   0.50091261  1.18715367]\n"
     ]
    },
    {
     "data": {
      "image/png": "[encoded data removed]",
      "text/plain": [
       "<matplotlib.figure.Figure at 0x7fb415aefc50>"
      ]
     },
     "metadata": {},
     "output_type": "display_data"
    }
   ],
   "source": [
    "random_model = rating_utils.RandomRating()\n",
    "random_model.fit(train, rating_utils.get_teams(data))\n",
    "print random_model.ratings\n",
    "\n",
    "plt.hist(random_model.ratings)\n",
    "pass"
   ]
  },
  {
   "cell_type": "markdown",
   "metadata": {},
   "source": [
    "We now compute the prediction accuracy and cross entropy loss"
   ]
  },
  {
   "cell_type": "code",
   "execution_count": 5,
   "metadata": {
    "collapsed": false
   },
   "outputs": [
    {
     "name": "stdout",
     "output_type": "stream",
     "text": [
      "Training and testing accuracy:\n",
      "0.481313703284 0.476878612717\n",
      "\n",
      "Training and testing cross entropy loss:\n",
      "0.980140489866 1.01310834233\n"
     ]
    }
   ],
   "source": [
    "print \"Training and testing accuracy:\"\n",
    "print random_model.test_accuracy(train), random_model.test_accuracy(test)\n",
    "print \"\\nTraining and testing cross entropy loss:\"\n",
    "print random_model.test_cross_entropy_loss(train), random_model.test_cross_entropy_loss(test)"
   ]
  },
  {
   "cell_type": "markdown",
   "metadata": {},
   "source": [
    "### 2. Fit and test Massey's method\n",
    "We fit and test Massey's method.\n",
    "\n",
    "We calculate the ratings and plot out the distribution."
   ]
  },
  {
   "cell_type": "code",
   "execution_count": 6,
   "metadata": {
    "collapsed": false
   },
   "outputs": [
    {
     "name": "stdout",
     "output_type": "stream",
     "text": [
      "[ -2.44411343e+00   2.33502629e-02  -4.16802978e-03  -4.04243405e+00\n",
      "   4.35243335e+00   3.85428723e+00   6.45396563e+00   5.00666388e+00\n",
      "   1.30333867e+00   2.10765449e+00   1.78477683e+00   9.63386422e+00\n",
      "  -2.61287789e+00   2.26168787e-01   7.45399221e+00   6.05793510e-01\n",
      "   7.49771544e+00  -3.56801718e+00  -3.55278373e+00  -3.08138296e+00\n",
      "  -3.09442370e+00  -1.01056266e+01  -4.58656753e+00  -2.99553130e+00\n",
      "  -4.16827169e-01  -5.93683332e+00  -1.41767769e+00   3.86588103e+00\n",
      "  -6.95240842e+00   6.41787464e-01]\n"
     ]
    },
    {
     "data": {
      "image/png": "[encoded data removed]",
      "text/plain": [
       "<matplotlib.figure.Figure at 0x7fb448562990>"
      ]
     },
     "metadata": {},
     "output_type": "display_data"
    }
   ],
   "source": [
    "massey_model = rating_utils.MasseyMethod()\n",
    "massey_model.fit(train, rating_utils.get_teams(data))\n",
    "print massey_model.ratings\n",
    "\n",
    "plt.hist(massey_model.ratings)\n",
    "pass"
   ]
  },
  {
   "cell_type": "markdown",
   "metadata": {},
   "source": [
    "We now compute the prediction accuracy and cross entropy loss"
   ]
  },
  {
   "cell_type": "code",
   "execution_count": 7,
   "metadata": {
    "collapsed": false
   },
   "outputs": [
    {
     "name": "stdout",
     "output_type": "stream",
     "text": [
      "Training and testing accuracy:\n",
      "0.687429218573 0.682080924855\n",
      "\n",
      "Training and testing cross entropy loss:\n",
      "0.595424327776 0.627697151595\n"
     ]
    }
   ],
   "source": [
    "print \"Training and testing accuracy:\"\n",
    "print massey_model.test_accuracy(train), massey_model.test_accuracy(test)\n",
    "print \"\\nTraining and testing cross entropy loss:\"\n",
    "print massey_model.test_cross_entropy_loss(train), massey_model.test_cross_entropy_loss(test)"
   ]
  },
  {
   "cell_type": "markdown",
   "metadata": {
    "collapsed": true
   },
   "source": [
    "### 3. Fit and test Markov's method on matches\n",
    "We fit and test Markov's method on match results.\n",
    "\n",
    "We calculate the ratings and plot out the distribution."
   ]
  },
  {
   "cell_type": "code",
   "execution_count": 8,
   "metadata": {
    "collapsed": false
   },
   "outputs": [
    {
     "name": "stdout",
     "output_type": "stream",
     "text": [
      "[ 0.03293325  0.03136271  0.03300239  0.02307472  0.04178854  0.04571438\n",
      "  0.05143692  0.0517333   0.04031221  0.03387243  0.04484356  0.04530344\n",
      "  0.02862582  0.04165038  0.05016916  0.03066735  0.05409349  0.0308616\n",
      "  0.01818625  0.02365773  0.01968396  0.01228682  0.0194283   0.03064052\n",
      "  0.02534181  0.01626492  0.02620865  0.04849667  0.01166362  0.03669509]\n"
     ]
    },
    {
     "data": {
      "image/png": "[encoded data removed]",
      "text/plain": [
       "<matplotlib.figure.Figure at 0x7fb3d64c4250>"
      ]
     },
     "metadata": {},
     "output_type": "display_data"
    }
   ],
   "source": [
    "markov_match_model = rating_utils.MarkovMatchMethod()\n",
    "markov_match_model.fit(train, rating_utils.get_teams(data))\n",
    "print markov_match_model.ratings\n",
    "\n",
    "plt.hist(markov_match_model.ratings)\n",
    "pass"
   ]
  },
  {
   "cell_type": "markdown",
   "metadata": {},
   "source": [
    "We now compute the prediction accuracy and cross entropy loss"
   ]
  },
  {
   "cell_type": "code",
   "execution_count": 9,
   "metadata": {
    "collapsed": false
   },
   "outputs": [
    {
     "name": "stdout",
     "output_type": "stream",
     "text": [
      "Training and testing accuracy:\n",
      "0.680634201586 0.664739884393\n",
      "\n",
      "Training and testing cross entropy loss:\n",
      "0.613967832856 0.635235597369\n"
     ]
    }
   ],
   "source": [
    "print \"Training and testing accuracy:\"\n",
    "print markov_match_model.test_accuracy(train), markov_match_model.test_accuracy(test)\n",
    "print \"\\nTraining and testing cross entropy loss:\"\n",
    "print markov_match_model.test_cross_entropy_loss(train), markov_match_model.test_cross_entropy_loss(test)"
   ]
  },
  {
   "cell_type": "markdown",
   "metadata": {},
   "source": [
    "### 4. Fit and test Markov's method on score\n",
    "We fit and test Markov's method on match score.\n",
    "\n",
    "We calculate the ratings and plot out the distribution."
   ]
  },
  {
   "cell_type": "code",
   "execution_count": 10,
   "metadata": {
    "collapsed": false
   },
   "outputs": [
    {
     "name": "stdout",
     "output_type": "stream",
     "text": [
      "[ 0.02463033  0.02586289  0.02464476  0.02108378  0.05458431  0.04833711\n",
      "  0.06818221  0.0622169   0.03960529  0.03433933  0.04382183  0.06708902\n",
      "  0.01919256  0.03317188  0.06132977  0.03081374  0.0559672   0.02016107\n",
      "  0.0168493   0.01567889  0.0193361   0.00740474  0.01377163  0.02483105\n",
      "  0.02060649  0.0145523   0.03161613  0.05874523  0.01168215  0.02989203]\n"
     ]
    },
    {
     "data": {
      "image/png": "[encoded data removed]",
      "text/plain": [
       "<matplotlib.figure.Figure at 0x7fb4485c9a10>"
      ]
     },
     "metadata": {},
     "output_type": "display_data"
    }
   ],
   "source": [
    "markov_score_model = rating_utils.MarkovScoreMethod()\n",
    "markov_score_model.fit(train, rating_utils.get_teams(data))\n",
    "print markov_score_model.ratings\n",
    "\n",
    "plt.hist(markov_score_model.ratings)\n",
    "pass"
   ]
  },
  {
   "cell_type": "markdown",
   "metadata": {},
   "source": [
    "We now compute the prediction accuracy and cross entropy loss"
   ]
  },
  {
   "cell_type": "code",
   "execution_count": 11,
   "metadata": {
    "collapsed": false
   },
   "outputs": [
    {
     "name": "stdout",
     "output_type": "stream",
     "text": [
      "Training and testing accuracy:\n",
      "0.679501698754 0.667630057803\n",
      "\n",
      "Training and testing cross entropy loss:\n",
      "0.603819260159 0.632616231511\n"
     ]
    }
   ],
   "source": [
    "print \"Training and testing accuracy:\"\n",
    "print markov_score_model.test_accuracy(train), markov_score_model.test_accuracy(test)\n",
    "print \"\\nTraining and testing cross entropy loss:\"\n",
    "print markov_score_model.test_cross_entropy_loss(train), markov_score_model.test_cross_entropy_loss(test)"
   ]
  },
  {
   "cell_type": "markdown",
   "metadata": {
    "collapsed": true
   },
   "source": [
    "### 5. Fit and test Colley's method\n",
    "We fit and test Colley's method.\n",
    "\n",
    "We calculate the ratings and plot out the distribution."
   ]
  },
  {
   "cell_type": "code",
   "execution_count": 12,
   "metadata": {
    "collapsed": false
   },
   "outputs": [
    {
     "name": "stdout",
     "output_type": "stream",
     "text": [
      "[ 0.15223943  0.00990993 -0.01046627  0.13592572 -0.09297749 -0.15042266\n",
      " -0.17317308 -0.12482654 -0.08909133 -0.04758242 -0.01420618 -0.20478715\n",
      "  0.08134517 -0.04985288 -0.20801193 -0.01207007 -0.26277145  0.124549\n",
      "  0.16827019  0.10748285  0.17434186  0.29088243  0.20806176  0.07549322\n",
      "  0.01817214  0.22590271  0.09096821 -0.13568936  0.28759781 -0.05797225]\n"
     ]
    },
    {
     "data": {
      "image/png": "[encoded data removed]",
      "text/plain": [
       "<matplotlib.figure.Figure at 0x7fb3d6f41290>"
      ]
     },
     "metadata": {},
     "output_type": "display_data"
    }
   ],
   "source": [
    "colley_model = rating_utils.ColleyMethod()\n",
    "colley_model.fit(train, rating_utils.get_teams(data))\n",
    "print colley_model.ratings\n",
    "\n",
    "plt.hist(colley_model.ratings)\n",
    "pass"
   ]
  },
  {
   "cell_type": "markdown",
   "metadata": {},
   "source": [
    "We now compute the prediction accuracy and cross entropy loss"
   ]
  },
  {
   "cell_type": "code",
   "execution_count": 13,
   "metadata": {
    "collapsed": false
   },
   "outputs": [
    {
     "name": "stdout",
     "output_type": "stream",
     "text": [
      "Training and testing accuracy:\n",
      "0.678369195923 0.664739884393\n",
      "\n",
      "Training and testing cross entropy loss:\n",
      "0.62924294213 0.710944544422\n"
     ]
    }
   ],
   "source": [
    "print \"Training and testing accuracy:\"\n",
    "print colley_model.test_accuracy(train), colley_model.test_accuracy(test)\n",
    "print \"\\nTraining and testing cross entropy loss:\"\n",
    "print colley_model.test_cross_entropy_loss(train), colley_model.test_cross_entropy_loss(test)"
   ]
  }
 ],
 "metadata": {
  "kernelspec": {
   "display_name": "Python 2",
   "language": "python",
   "name": "python2"
  },
  "language_info": {
   "codemirror_mode": {
    "name": "ipython",
    "version": 2
   },
   "file_extension": ".py",
   "mimetype": "text/x-python",
   "name": "python",
   "nbconvert_exporter": "python",
   "pygments_lexer": "ipython2",
   "version": "2.7.11"
  }
 },
 "nbformat": 4,
 "nbformat_minor": 0
}
