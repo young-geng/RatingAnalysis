{
 "cells": [
  {
   "cell_type": "code",
   "execution_count": 1,
   "metadata": {
    "collapsed": false
   },
   "outputs": [],
   "source": [
    "from __future__ import division\n",
    "\n",
    "import numpy as np\n",
    "import pandas as pd\n",
    "import matplotlib\n",
    "from matplotlib import pyplot as plt\n",
    "from ggplot import *\n",
    "\n",
    "import rating_utils\n",
    "\n",
    "%matplotlib inline"
   ]
  },
  {
   "cell_type": "markdown",
   "metadata": {},
   "source": [
    "### 1. Data processing\n",
    "We load the training data and split it into training and test set"
   ]
  },
  {
   "cell_type": "code",
   "execution_count": 2,
   "metadata": {
    "collapsed": false
   },
   "outputs": [
    {
     "name": "stdout",
     "output_type": "stream",
     "text": [
      "['Washington Wizards' 'Dallas Mavericks' 'Boston Celtics'\n",
      " 'Sacramento Kings' 'Houston Rockets' 'Memphis Grizzlies'\n",
      " 'San Antonio Spurs' 'Denver Nuggets' 'Golden State Warriors'\n",
      " 'Los Angeles Lakers' 'Indiana Pacers' 'Oklahoma City Thunder'\n",
      " 'Milwaukee Bucks' 'Chicago Bulls' 'Los Angeles Clippers' 'Utah Jazz'\n",
      " 'Miami Heat' 'Portland Trail Blazers' 'Detroit Pistons' 'Toronto Raptors'\n",
      " 'New Orleans Hornets' 'Charlotte Bobcats' 'Cleveland Cavaliers'\n",
      " 'Philadelphia 76ers' 'Atlanta Hawks' 'Phoenix Suns'\n",
      " 'Minnesota Timberwolves' 'New York Knicks' 'Orlando Magic' 'Brooklyn Nets']\n",
      "714 515\n"
     ]
    }
   ],
   "source": [
    "data = pd.read_csv('data/12-13.csv')\n",
    "\n",
    "indices = np.random.rand(len(data)) < 0.6\n",
    "\n",
    "train = data[indices].reset_index()\n",
    "test = data[~indices].reset_index()\n",
    "\n",
    "print rating_utils.get_teams(data)\n",
    "\n",
    "print len(train), len(test)"
   ]
  },
  {
   "cell_type": "markdown",
   "metadata": {},
   "source": [
    "Let's plot the score difference distribution"
   ]
  },
  {
   "cell_type": "code",
   "execution_count": 3,
   "metadata": {
    "collapsed": false
   },
   "outputs": [
    {
     "name": "stderr",
     "output_type": "stream",
     "text": [
      "/home/young/anaconda2/lib/python2.7/site-packages/matplotlib/__init__.py:872: UserWarning: axes.color_cycle is deprecated and replaced with axes.prop_cycle; please use the latter.\n",
      "  warnings.warn(self.msg_depr % (key, alt_key))\n"
     ]
    },
    {
     "data": {
      "image/png": "[encoded data removed]",
      "text/plain": [
       "<matplotlib.figure.Figure at 0x7fc13851b890>"
      ]
     },
     "metadata": {},
     "output_type": "display_data"
    },
    {
     "data": {
      "text/plain": [
       "<ggplot: (8779124904425)>"
      ]
     },
     "execution_count": 3,
     "metadata": {},
     "output_type": "execute_result"
    }
   ],
   "source": [
    "ggplot(pd.DataFrame({'score_difference': data['HomePTS'] - data['VisitorPTS']}), aes(x='score_difference')) \\\n",
    "    + geom_histogram(fill='#33bbff', binwidth=2) \\\n",
    "    + ylab('match count')"
   ]
  },
  {
   "cell_type": "markdown",
   "metadata": {},
   "source": [
    "### 2. Fit and test Massey's method\n",
    "We fit and test Massey's method.\n",
    "\n",
    "We calculate the ratings and plot out the distribution."
   ]
  },
  {
   "cell_type": "code",
   "execution_count": 4,
   "metadata": {
    "collapsed": false
   },
   "outputs": [
    {
     "name": "stdout",
     "output_type": "stream",
     "text": [
      "[ -1.44203189  -1.46724979  -0.73633521  -5.35286068   3.19867846\n",
      "   3.86744343   8.39231317   6.61293362   1.47663045   0.88749794\n",
      "   1.71835725  10.57837561  -1.89760915   1.89536144   3.81389707\n",
      "   0.55997594  10.23486017  -3.90674963  -5.94648668  -0.79937333\n",
      "  -3.87939495  -8.46926435  -5.3766737   -2.85372596   0.71873491\n",
      "  -6.34836022   0.09082435   1.76536877  -7.6772066    0.34206955]\n"
     ]
    },
    {
     "data": {
      "image/png": "[encoded data removed]",
      "text/plain": [
       "<matplotlib.figure.Figure at 0x7fc0c96f4350>"
      ]
     },
     "metadata": {},
     "output_type": "display_data"
    }
   ],
   "source": [
    "massey_model = rating_utils.MasseyMethod()\n",
    "massey_model.fit(train, rating_utils.get_teams(data))\n",
    "print massey_model.ratings\n",
    "\n",
    "plt.hist(massey_model.ratings)\n",
    "pass"
   ]
  },
  {
   "cell_type": "markdown",
   "metadata": {},
   "source": [
    "We now compute the prediction accuracy and cross entropy loss"
   ]
  },
  {
   "cell_type": "code",
   "execution_count": 5,
   "metadata": {
    "collapsed": false
   },
   "outputs": [
    {
     "name": "stdout",
     "output_type": "stream",
     "text": [
      "Training and testing accuracy:\n",
      "0.78431372549 0.790291262136\n",
      "\n",
      "Training and testing cross entropy loss:\n",
      "0.594976229008 0.622590635398\n"
     ]
    }
   ],
   "source": [
    "print \"Training and testing accuracy:\"\n",
    "print massey_model.test_accuracy(train), massey_model.test_accuracy(test)\n",
    "print \"\\nTraining and testing cross entropy loss:\"\n",
    "print massey_model.test_cross_entropy_loss(train), massey_model.test_cross_entropy_loss(test)"
   ]
  },
  {
   "cell_type": "markdown",
   "metadata": {
    "collapsed": true
   },
   "source": [
    "### 3. Fit and test Markov's method on matches\n",
    "We fit and test Markov's method on match results.\n",
    "\n",
    "We calculate the ratings and plot out the distribution."
   ]
  },
  {
   "cell_type": "code",
   "execution_count": 6,
   "metadata": {
    "collapsed": false
   },
   "outputs": [
    {
     "name": "stdout",
     "output_type": "stream",
     "text": [
      "[ 0.0345259   0.02170478  0.02703186  0.02038902  0.03543297  0.06654818\n",
      "  0.05937119  0.0525522   0.04363313  0.03423614  0.04959156  0.05103154\n",
      "  0.02200765  0.03975273  0.03404784  0.0414326   0.0592879   0.02885235\n",
      "  0.01812184  0.02668343  0.01680446  0.01135406  0.00993712  0.03035706\n",
      "  0.03581857  0.01996005  0.02423609  0.04039551  0.01636459  0.02853766]\n"
     ]
    },
    {
     "data": {
      "image/png": "[encoded data removed]",
      "text/plain": [
       "<matplotlib.figure.Figure at 0x7fc0c9dfea10>"
      ]
     },
     "metadata": {},
     "output_type": "display_data"
    }
   ],
   "source": [
    "markov_match_model = rating_utils.MarkovMatchMethod()\n",
    "markov_match_model.fit(train, rating_utils.get_teams(data))\n",
    "print markov_match_model.ratings\n",
    "\n",
    "plt.hist(markov_match_model.ratings)\n",
    "pass"
   ]
  },
  {
   "cell_type": "markdown",
   "metadata": {},
   "source": [
    "We now compute the prediction accuracy and cross entropy loss"
   ]
  },
  {
   "cell_type": "code",
   "execution_count": 7,
   "metadata": {
    "collapsed": false
   },
   "outputs": [
    {
     "name": "stdout",
     "output_type": "stream",
     "text": [
      "Training and testing accuracy:\n",
      "0.774509803922 0.765048543689\n",
      "\n",
      "Training and testing cross entropy loss:\n",
      "0.617649314964 0.628423946225\n"
     ]
    }
   ],
   "source": [
    "print \"Training and testing accuracy:\"\n",
    "print markov_match_model.test_accuracy(train), markov_match_model.test_accuracy(test)\n",
    "print \"\\nTraining and testing cross entropy loss:\"\n",
    "print markov_match_model.test_cross_entropy_loss(train), markov_match_model.test_cross_entropy_loss(test)"
   ]
  },
  {
   "cell_type": "markdown",
   "metadata": {},
   "source": [
    "### 4. Fit and test Markov's method on score\n",
    "We fit and test Markov's method on match score.\n",
    "\n",
    "We calculate the ratings and plot out the distribution."
   ]
  },
  {
   "cell_type": "code",
   "execution_count": 8,
   "metadata": {
    "collapsed": false
   },
   "outputs": [
    {
     "name": "stdout",
     "output_type": "stream",
     "text": [
      "[ 0.0295472   0.02381112  0.02314669  0.01480899  0.03696447  0.07049973\n",
      "  0.06382447  0.06605732  0.03829206  0.03206481  0.05464289  0.07658493\n",
      "  0.01293468  0.03145445  0.03671097  0.03584304  0.07195355  0.03539689\n",
      "  0.0144295   0.02332719  0.0264885   0.00665734  0.00485546  0.02684677\n",
      "  0.03681361  0.01518043  0.02412612  0.0345877   0.01113343  0.02101568]\n"
     ]
    },
    {
     "data": {
      "image/png": "[encoded data removed]",
      "text/plain": [
       "<matplotlib.figure.Figure at 0x7fc0c944ea50>"
      ]
     },
     "metadata": {},
     "output_type": "display_data"
    }
   ],
   "source": [
    "markov_score_model = rating_utils.MarkovScoreMethod()\n",
    "markov_score_model.fit(train, rating_utils.get_teams(data))\n",
    "print markov_score_model.ratings\n",
    "\n",
    "plt.hist(markov_score_model.ratings)\n",
    "pass"
   ]
  },
  {
   "cell_type": "markdown",
   "metadata": {},
   "source": [
    "We now compute the prediction accuracy and cross entropy loss"
   ]
  },
  {
   "cell_type": "code",
   "execution_count": 9,
   "metadata": {
    "collapsed": false
   },
   "outputs": [
    {
     "name": "stdout",
     "output_type": "stream",
     "text": [
      "Training and testing accuracy:\n",
      "0.77731092437 0.765048543689\n",
      "\n",
      "Training and testing cross entropy loss:\n",
      "0.617688436435 0.633960196354\n"
     ]
    }
   ],
   "source": [
    "print \"Training and testing accuracy:\"\n",
    "print markov_score_model.test_accuracy(train), markov_score_model.test_accuracy(test)\n",
    "print \"\\nTraining and testing cross entropy loss:\"\n",
    "print markov_score_model.test_cross_entropy_loss(train), markov_score_model.test_cross_entropy_loss(test)"
   ]
  },
  {
   "cell_type": "markdown",
   "metadata": {
    "collapsed": true
   },
   "source": [
    "### 5. Fit and test Colley's method on score\n",
    "We fit and test Colley's method.\n",
    "\n",
    "We calculate the ratings and plot out the distribution."
   ]
  },
  {
   "cell_type": "code",
   "execution_count": 10,
   "metadata": {
    "collapsed": false
   },
   "outputs": [
    {
     "name": "stdout",
     "output_type": "stream",
     "text": [
      "[ 0.10420368  0.07770563  0.06044993  0.1484815  -0.04707436 -0.12919375\n",
      " -0.25024241 -0.13953637 -0.08227193 -0.0146387  -0.00386125 -0.25480865\n",
      "  0.08291238 -0.04416135 -0.13072912 -0.01445345 -0.34282008  0.12290016\n",
      "  0.19257426  0.08802959  0.17669693  0.23194567  0.25934513  0.06819673\n",
      " -0.04011039  0.20388335  0.07625363 -0.06696779  0.23819024 -0.05365781]\n"
     ]
    },
    {
     "data": {
      "image/png": "[encoded data removed]",
      "text/plain": [
       "<matplotlib.figure.Figure at 0x7fc0c949a150>"
      ]
     },
     "metadata": {},
     "output_type": "display_data"
    }
   ],
   "source": [
    "colley_model = rating_utils.ColleyMethod()\n",
    "colley_model.fit(train, rating_utils.get_teams(data))\n",
    "print colley_model.ratings\n",
    "\n",
    "plt.hist(colley_model.ratings)\n",
    "pass"
   ]
  },
  {
   "cell_type": "markdown",
   "metadata": {},
   "source": [
    "We now compute the prediction accuracy and cross entropy loss"
   ]
  },
  {
   "cell_type": "code",
   "execution_count": 11,
   "metadata": {
    "collapsed": false
   },
   "outputs": [
    {
     "name": "stdout",
     "output_type": "stream",
     "text": [
      "Training and testing accuracy:\n",
      "0.785714285714 0.780582524272\n",
      "\n",
      "Training and testing cross entropy loss:\n",
      "0.637584852516 0.716790018758\n"
     ]
    }
   ],
   "source": [
    "print \"Training and testing accuracy:\"\n",
    "print colley_model.test_accuracy(train), colley_model.test_accuracy(test)\n",
    "print \"\\nTraining and testing cross entropy loss:\"\n",
    "print colley_model.test_cross_entropy_loss(train), colley_model.test_cross_entropy_loss(test)"
   ]
  }
 ],
 "metadata": {
  "kernelspec": {
   "display_name": "Python 2",
   "language": "python",
   "name": "python2"
  },
  "language_info": {
   "codemirror_mode": {
    "name": "ipython",
    "version": 2
   },
   "file_extension": ".py",
   "mimetype": "text/x-python",
   "name": "python",
   "nbconvert_exporter": "python",
   "pygments_lexer": "ipython2",
   "version": "2.7.11"
  }
 },
 "nbformat": 4,
 "nbformat_minor": 0
}
