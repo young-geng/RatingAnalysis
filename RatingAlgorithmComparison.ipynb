{
 "cells": [
  {
   "cell_type": "code",
   "execution_count": 1,
   "metadata": {
    "collapsed": false
   },
   "outputs": [],
   "source": [
    "from __future__ import division\n",
    "\n",
    "import numpy as np\n",
    "import pandas as pd\n",
    "import matplotlib\n",
    "from matplotlib import pyplot as plt\n",
    "from ggplot import *\n",
    "\n",
    "import rating_utils\n",
    "\n",
    "%matplotlib inline"
   ]
  },
  {
   "cell_type": "markdown",
   "metadata": {},
   "source": [
    "### 1. Data processing\n",
    "We load the training data and split it into training and test set"
   ]
  },
  {
   "cell_type": "code",
   "execution_count": 2,
   "metadata": {
    "collapsed": false
   },
   "outputs": [
    {
     "name": "stdout",
     "output_type": "stream",
     "text": [
      "['Washington Wizards' 'Dallas Mavericks' 'Boston Celtics'\n",
      " 'Sacramento Kings' 'Houston Rockets' 'Memphis Grizzlies'\n",
      " 'San Antonio Spurs' 'Denver Nuggets' 'Golden State Warriors'\n",
      " 'Los Angeles Lakers' 'Indiana Pacers' 'Oklahoma City Thunder'\n",
      " 'Milwaukee Bucks' 'Chicago Bulls' 'Los Angeles Clippers' 'Utah Jazz'\n",
      " 'Miami Heat' 'Portland Trail Blazers' 'Detroit Pistons' 'Toronto Raptors'\n",
      " 'New Orleans Hornets' 'Charlotte Bobcats' 'Cleveland Cavaliers'\n",
      " 'Philadelphia 76ers' 'Atlanta Hawks' 'Phoenix Suns'\n",
      " 'Minnesota Timberwolves' 'New York Knicks' 'Orlando Magic' 'Brooklyn Nets']\n",
      "1013 216\n"
     ]
    }
   ],
   "source": [
    "data = pd.read_csv('data/12-13.csv')\n",
    "\n",
    "indices = np.random.rand(len(data)) < 0.8\n",
    "\n",
    "train = data[indices].reset_index()\n",
    "test = data[~indices].reset_index()\n",
    "\n",
    "print rating_utils.get_teams(data)\n",
    "\n",
    "print len(train), len(test)"
   ]
  },
  {
   "cell_type": "markdown",
   "metadata": {},
   "source": [
    "Let's plot the score difference distribution"
   ]
  },
  {
   "cell_type": "code",
   "execution_count": 3,
   "metadata": {
    "collapsed": false
   },
   "outputs": [
    {
     "name": "stderr",
     "output_type": "stream",
     "text": [
      "/home/young/anaconda2/lib/python2.7/site-packages/matplotlib/__init__.py:872: UserWarning: axes.color_cycle is deprecated and replaced with axes.prop_cycle; please use the latter.\n",
      "  warnings.warn(self.msg_depr % (key, alt_key))\n"
     ]
    },
    {
     "data": {
      "image/png": "[encoded data removed]",
      "text/plain": [
       "<matplotlib.figure.Figure at 0x7f567c4dd710>"
      ]
     },
     "metadata": {},
     "output_type": "display_data"
    },
    {
     "data": {
      "text/plain": [
       "<ggplot: (8750702987929)>"
      ]
     },
     "execution_count": 3,
     "metadata": {},
     "output_type": "execute_result"
    }
   ],
   "source": [
    "ggplot(pd.DataFrame({'score_difference': data['HomePTS'] - data['VisitorPTS']}), aes(x='score_difference')) \\\n",
    "    + geom_histogram(fill='#33bbff', binwidth=2) \\\n",
    "    + ylab('match count')"
   ]
  },
  {
   "cell_type": "markdown",
   "metadata": {},
   "source": [
    "### 2. Fit and test Massey's method\n",
    "We fit and test Massey's method.\n",
    "\n",
    "We calculate the ratings and plot out the distribution."
   ]
  },
  {
   "cell_type": "code",
   "execution_count": 4,
   "metadata": {
    "collapsed": false
   },
   "outputs": [
    {
     "name": "stdout",
     "output_type": "stream",
     "text": [
      "[-2.91939538 -0.75015519 -1.0181473  -4.5161037   3.45817541  4.61214817\n",
      "  7.3621125   5.76608111  1.99678793  1.24933899  3.50799918  8.40481289\n",
      " -1.86344157 -1.50974648  7.21473542  0.10207773  6.64551964 -2.35933007\n",
      " -3.67504206 -3.05940091 -2.79533321 -8.27406771 -4.16919967 -3.36120443\n",
      " -0.13788397 -6.53974283 -2.02876922  3.38909715 -6.09405829  1.3621359 ]\n"
     ]
    },
    {
     "data": {
      "image/png": "[encoded data removed]",
      "text/plain": [
       "<matplotlib.figure.Figure at 0x7f567bcf2250>"
      ]
     },
     "metadata": {},
     "output_type": "display_data"
    }
   ],
   "source": [
    "massey_model = rating_utils.MasseyMethod()\n",
    "massey_model.fit(train, rating_utils.get_teams(data))\n",
    "print massey_model.ratings\n",
    "\n",
    "plt.hist(massey_model.ratings)\n",
    "pass"
   ]
  },
  {
   "cell_type": "markdown",
   "metadata": {},
   "source": [
    "We now compute the prediction accuracy and cross entropy loss"
   ]
  },
  {
   "cell_type": "code",
   "execution_count": 5,
   "metadata": {
    "collapsed": false
   },
   "outputs": [
    {
     "name": "stdout",
     "output_type": "stream",
     "text": [
      "Training and testing accuracy:\n",
      "0.780848963475 0.777777777778\n",
      "\n",
      "Training and testing cross entropy loss:\n",
      "0.600329049507 0.620613293906\n"
     ]
    }
   ],
   "source": [
    "print \"Training and testing accuracy:\"\n",
    "print massey_model.test_accuracy(train), massey_model.test_accuracy(test)\n",
    "print \"\\nTraining and testing cross entropy loss:\"\n",
    "print massey_model.test_cross_entropy_loss(train), massey_model.test_cross_entropy_loss(test)"
   ]
  },
  {
   "cell_type": "markdown",
   "metadata": {
    "collapsed": true
   },
   "source": [
    "### 3. Fit and test Markov's method on matches\n",
    "We fit and test Markov's method on match results.\n",
    "\n",
    "We calculate the ratings and plot out the distribution."
   ]
  },
  {
   "cell_type": "code",
   "execution_count": 6,
   "metadata": {
    "collapsed": false
   },
   "outputs": [
    {
     "name": "stdout",
     "output_type": "stream",
     "text": [
      "[ 0.03062339  0.02710368  0.03360547  0.02091152  0.03566056  0.04992576\n",
      "  0.05142161  0.05096523  0.04257244  0.03790106  0.0431352   0.05319512\n",
      "  0.02781335  0.02587035  0.05078166  0.0339327   0.05435069  0.03483837\n",
      "  0.01927146  0.02062579  0.02267212  0.01496599  0.01752853  0.0262743\n",
      "  0.03322431  0.0163014   0.02935294  0.04896367  0.01232674  0.0338846 ]\n"
     ]
    },
    {
     "data": {
      "image/png": "[encoded data removed]",
      "text/plain": [
       "<matplotlib.figure.Figure at 0x7f567c4be990>"
      ]
     },
     "metadata": {},
     "output_type": "display_data"
    }
   ],
   "source": [
    "markov_match_model = rating_utils.MarkovMatchMethod()\n",
    "markov_match_model.fit(train, rating_utils.get_teams(data))\n",
    "print markov_match_model.ratings\n",
    "\n",
    "plt.hist(markov_match_model.ratings)\n",
    "pass"
   ]
  },
  {
   "cell_type": "markdown",
   "metadata": {},
   "source": [
    "We now compute the prediction accuracy and cross entropy loss"
   ]
  },
  {
   "cell_type": "code",
   "execution_count": 7,
   "metadata": {
    "collapsed": false
   },
   "outputs": [
    {
     "name": "stdout",
     "output_type": "stream",
     "text": [
      "Training and testing accuracy:\n",
      "0.787759131293 0.768518518519\n",
      "\n",
      "Training and testing cross entropy loss:\n",
      "0.616272845502 0.63104815668\n"
     ]
    }
   ],
   "source": [
    "print \"Training and testing accuracy:\"\n",
    "print markov_match_model.test_accuracy(train), markov_match_model.test_accuracy(test)\n",
    "print \"\\nTraining and testing cross entropy loss:\"\n",
    "print markov_match_model.test_cross_entropy_loss(train), markov_match_model.test_cross_entropy_loss(test)"
   ]
  },
  {
   "cell_type": "markdown",
   "metadata": {},
   "source": [
    "### 4. Fit and test Markov's method on score\n",
    "We fit and test Markov's method on match score.\n",
    "\n",
    "We calculate the ratings and plot out the distribution."
   ]
  },
  {
   "cell_type": "code",
   "execution_count": 8,
   "metadata": {
    "collapsed": false
   },
   "outputs": [
    {
     "name": "stdout",
     "output_type": "stream",
     "text": [
      "[ 0.02448132  0.02480406  0.02796963  0.01583665  0.04764125  0.04985001\n",
      "  0.06879986  0.05085831  0.04291523  0.03362717  0.04259194  0.07089111\n",
      "  0.02411603  0.01606544  0.06318803  0.03212765  0.05688141  0.03357413\n",
      "  0.0183962   0.01504105  0.02575685  0.00903598  0.01069817  0.02103108\n",
      "  0.02879364  0.01213793  0.03321876  0.05609441  0.00955463  0.03402208]\n"
     ]
    },
    {
     "data": {
      "image/png": "[encoded data removed]",
      "text/plain": [
       "<matplotlib.figure.Figure at 0x7f567b93e410>"
      ]
     },
     "metadata": {},
     "output_type": "display_data"
    }
   ],
   "source": [
    "markov_score_model = rating_utils.MarkovScoreMethod()\n",
    "markov_score_model.fit(train, rating_utils.get_teams(data))\n",
    "print markov_score_model.ratings\n",
    "\n",
    "plt.hist(markov_score_model.ratings)\n",
    "pass"
   ]
  },
  {
   "cell_type": "markdown",
   "metadata": {},
   "source": [
    "We now compute the prediction accuracy and cross entropy loss"
   ]
  },
  {
   "cell_type": "code",
   "execution_count": 9,
   "metadata": {
    "collapsed": false
   },
   "outputs": [
    {
     "name": "stdout",
     "output_type": "stream",
     "text": [
      "Training and testing accuracy:\n",
      "0.775913129319 0.782407407407\n",
      "\n",
      "Training and testing cross entropy loss:\n",
      "0.611818417472 0.63340188316\n"
     ]
    }
   ],
   "source": [
    "print \"Training and testing accuracy:\"\n",
    "print markov_score_model.test_accuracy(train), markov_score_model.test_accuracy(test)\n",
    "print \"\\nTraining and testing cross entropy loss:\"\n",
    "print markov_score_model.test_cross_entropy_loss(train), markov_score_model.test_cross_entropy_loss(test)"
   ]
  }
 ],
 "metadata": {
  "kernelspec": {
   "display_name": "Python 2",
   "language": "python",
   "name": "python2"
  },
  "language_info": {
   "codemirror_mode": {
    "name": "ipython",
    "version": 2
   },
   "file_extension": ".py",
   "mimetype": "text/x-python",
   "name": "python",
   "nbconvert_exporter": "python",
   "pygments_lexer": "ipython2",
   "version": "2.7.11"
  }
 },
 "nbformat": 4,
 "nbformat_minor": 0
}
