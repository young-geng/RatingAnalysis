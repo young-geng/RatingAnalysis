{
 "cells": [
  {
   "cell_type": "code",
   "execution_count": 2,
   "metadata": {
    "collapsed": false
   },
   "outputs": [],
   "source": [
    "from __future__ import division\n",
    "\n",
    "import numpy as np\n",
    "import pandas as pd\n",
    "import matplotlib\n",
    "from matplotlib import pyplot as plt\n",
    "from ggplot import *\n",
    "\n",
    "import rating_utils\n",
    "\n",
    "\n",
    "%matplotlib inline"
   ]
  },
  {
   "cell_type": "markdown",
   "metadata": {},
   "source": [
    "### 1. Data processing\n",
    "We load the training data and split it into training and test set"
   ]
  },
  {
   "cell_type": "code",
   "execution_count": 3,
   "metadata": {
    "collapsed": false
   },
   "outputs": [
    {
     "name": "stdout",
     "output_type": "stream",
     "text": [
      "['Washington Wizards' 'Dallas Mavericks' 'Boston Celtics'\n",
      " 'Sacramento Kings' 'Houston Rockets' 'Memphis Grizzlies'\n",
      " 'San Antonio Spurs' 'Denver Nuggets' 'Golden State Warriors'\n",
      " 'Los Angeles Lakers' 'Indiana Pacers' 'Oklahoma City Thunder'\n",
      " 'Milwaukee Bucks' 'Chicago Bulls' 'Los Angeles Clippers' 'Utah Jazz'\n",
      " 'Miami Heat' 'Portland Trail Blazers' 'Detroit Pistons' 'Toronto Raptors'\n",
      " 'New Orleans Hornets' 'Charlotte Bobcats' 'Cleveland Cavaliers'\n",
      " 'Philadelphia 76ers' 'Atlanta Hawks' 'Phoenix Suns'\n",
      " 'Minnesota Timberwolves' 'New York Knicks' 'Orlando Magic' 'Brooklyn Nets']\n",
      "971 258\n"
     ]
    }
   ],
   "source": [
    "data = pd.read_csv('data/12-13.csv')\n",
    "\n",
    "indices = np.random.rand(len(data)) < 0.8\n",
    "\n",
    "train = data[indices].reset_index()\n",
    "test = data[~indices].reset_index()\n",
    "\n",
    "print rating_utils.get_teams(data)\n",
    "\n",
    "print len(train), len(test)"
   ]
  },
  {
   "cell_type": "markdown",
   "metadata": {},
   "source": [
    "Let's plot the score distribution"
   ]
  },
  {
   "cell_type": "code",
   "execution_count": 4,
   "metadata": {
    "collapsed": false
   },
   "outputs": [
    {
     "name": "stderr",
     "output_type": "stream",
     "text": [
      "/home/young/anaconda2/lib/python2.7/site-packages/matplotlib/__init__.py:872: UserWarning: axes.color_cycle is deprecated and replaced with axes.prop_cycle; please use the latter.\n",
      "  warnings.warn(self.msg_depr % (key, alt_key))\n",
      "stat_bin: binwidth defaulted to range/30.\n",
      "    Use 'binwidth = x' to adjust this.\n"
     ]
    },
    {
     "data": {
      "image/png": "[encoded data removed]",
      "text/plain": [
       "<matplotlib.figure.Figure at 0x7f7b7b3de990>"
      ]
     },
     "metadata": {},
     "output_type": "display_data"
    },
    {
     "data": {
      "text/plain": [
       "<ggplot: (8760638696537)>"
      ]
     },
     "execution_count": 4,
     "metadata": {},
     "output_type": "execute_result"
    }
   ],
   "source": [
    "ggplot(pd.DataFrame({'score': data['HomePTS'].append(data['VisitorPTS'])}), aes(x='score')) \\\n",
    "    + geom_histogram(fill='#33bbff') \\\n",
    "    + ylab('match count')"
   ]
  },
  {
   "cell_type": "markdown",
   "metadata": {},
   "source": [
    "### 2. Fit and test Massey's method\n",
    "We fit and test Massey's method.\n",
    "The ratings are:"
   ]
  },
  {
   "cell_type": "code",
   "execution_count": 5,
   "metadata": {
    "collapsed": false
   },
   "outputs": [
    {
     "data": {
      "text/plain": [
       "array([-2.9761933 , -0.6792767 , -1.61629121, -5.13894117,  3.22753254,\n",
       "        4.23183028,  6.38189607,  4.7561846 ,  0.54156335,  2.01012078,\n",
       "        3.67130966,  9.33027998, -1.56408606,  0.58278001,  5.99388409,\n",
       "        0.26810495,  6.8864326 , -2.29489974, -3.92489896, -2.52148207,\n",
       "       -3.05411477, -9.10561275, -3.52146984, -3.69958985,  0.31366047,\n",
       "       -6.37629513, -1.17641923,  3.2902164 , -5.88107386,  2.04484888])"
      ]
     },
     "execution_count": 5,
     "metadata": {},
     "output_type": "execute_result"
    }
   ],
   "source": [
    "massey_model = rating_utils.MasseyMethod()\n",
    "massey_model.fit(train, rating_utils.get_teams(data))\n",
    "massey_model.ratings"
   ]
  },
  {
   "cell_type": "markdown",
   "metadata": {},
   "source": [
    "We can plot out a histogram for the ratings"
   ]
  },
  {
   "cell_type": "code",
   "execution_count": 6,
   "metadata": {
    "collapsed": false
   },
   "outputs": [
    {
     "data": {
      "image/png": "[encoded data removed]",
      "text/plain": [
       "<matplotlib.figure.Figure at 0x7f7b79bab650>"
      ]
     },
     "metadata": {},
     "output_type": "display_data"
    },
    {
     "data": {
      "text/plain": [
       "<ggplot: (8760520327957)>"
      ]
     },
     "execution_count": 6,
     "metadata": {},
     "output_type": "execute_result"
    }
   ],
   "source": [
    "# plt.hist(massey_model.ratings, bins=15)\n",
    "ggplot(pd.DataFrame({'rating': massey_model.ratings}), aes(x='rating')) \\\n",
    "    + geom_histogram(binwidth=1.4, fill='#33bbff') \\\n",
    "    + ylab('team count')"
   ]
  },
  {
   "cell_type": "markdown",
   "metadata": {},
   "source": [
    "We now compute the prediction error rate on training and test set"
   ]
  },
  {
   "cell_type": "code",
   "execution_count": 7,
   "metadata": {
    "collapsed": false
   },
   "outputs": [
    {
     "name": "stdout",
     "output_type": "stream",
     "text": [
      "0.215242018538 0.220930232558\n"
     ]
    }
   ],
   "source": [
    "print massey_model.test_error_rate(train), massey_model.test_error_rate(test)"
   ]
  },
  {
   "cell_type": "code",
   "execution_count": null,
   "metadata": {
    "collapsed": true
   },
   "outputs": [],
   "source": []
  }
 ],
 "metadata": {
  "kernelspec": {
   "display_name": "Python 2",
   "language": "python",
   "name": "python2"
  },
  "language_info": {
   "codemirror_mode": {
    "name": "ipython",
    "version": 2
   },
   "file_extension": ".py",
   "mimetype": "text/x-python",
   "name": "python",
   "nbconvert_exporter": "python",
   "pygments_lexer": "ipython2",
   "version": "2.7.11"
  }
 },
 "nbformat": 4,
 "nbformat_minor": 0
}
