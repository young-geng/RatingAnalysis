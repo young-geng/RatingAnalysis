{
 "cells": [
  {
   "cell_type": "code",
   "execution_count": 9,
   "metadata": {
    "collapsed": false
   },
   "outputs": [],
   "source": [
    "from __future__ import division\n",
    "\n",
    "import numpy as np\n",
    "import pandas as pd\n",
    "import matplotlib\n",
    "from matplotlib import pyplot as plt\n",
    "from ggplot import *\n",
    "\n",
    "import rating_utils\n",
    "\n",
    "\n",
    "%matplotlib inline"
   ]
  },
  {
   "cell_type": "markdown",
   "metadata": {},
   "source": [
    "### 1. Data processing\n",
    "We load the training data and split it into training and test set"
   ]
  },
  {
   "cell_type": "code",
   "execution_count": 10,
   "metadata": {
    "collapsed": false
   },
   "outputs": [
    {
     "name": "stdout",
     "output_type": "stream",
     "text": [
      "['Washington Wizards' 'Dallas Mavericks' 'Boston Celtics'\n",
      " 'Sacramento Kings' 'Houston Rockets' 'Memphis Grizzlies'\n",
      " 'San Antonio Spurs' 'Denver Nuggets' 'Golden State Warriors'\n",
      " 'Los Angeles Lakers' 'Indiana Pacers' 'Oklahoma City Thunder'\n",
      " 'Milwaukee Bucks' 'Chicago Bulls' 'Los Angeles Clippers' 'Utah Jazz'\n",
      " 'Miami Heat' 'Portland Trail Blazers' 'Detroit Pistons' 'Toronto Raptors'\n",
      " 'New Orleans Hornets' 'Charlotte Bobcats' 'Cleveland Cavaliers'\n",
      " 'Philadelphia 76ers' 'Atlanta Hawks' 'Phoenix Suns'\n",
      " 'Minnesota Timberwolves' 'New York Knicks' 'Orlando Magic' 'Brooklyn Nets']\n",
      "1001 228\n"
     ]
    }
   ],
   "source": [
    "data = pd.read_csv('data/12-13.csv')\n",
    "\n",
    "indices = np.random.rand(len(data)) < 0.8\n",
    "\n",
    "train = data[indices].reset_index()\n",
    "test = data[~indices].reset_index()\n",
    "\n",
    "print rating_utils.get_teams(data)\n",
    "\n",
    "print len(train), len(test)"
   ]
  },
  {
   "cell_type": "markdown",
   "metadata": {},
   "source": [
    "Let's plot the score distribution"
   ]
  },
  {
   "cell_type": "code",
   "execution_count": 41,
   "metadata": {
    "collapsed": false
   },
   "outputs": [
    {
     "data": {
      "image/png": "[encoded data removed]",
      "text/plain": [
       "<matplotlib.figure.Figure at 0x7f60ef4beb50>"
      ]
     },
     "metadata": {},
     "output_type": "display_data"
    },
    {
     "data": {
      "text/plain": [
       "<ggplot: (8753394384109)>"
      ]
     },
     "execution_count": 41,
     "metadata": {},
     "output_type": "execute_result"
    }
   ],
   "source": [
    "ggplot(pd.DataFrame({'score': data['HomePTS'].append(data['VisitorPTS'])}), aes(x='score')) \\\n",
    "    + geom_histogram(fill='#33bbff') \\\n",
    "    + ylab('match count')"
   ]
  },
  {
   "cell_type": "markdown",
   "metadata": {},
   "source": [
    "### 2. Fit and test Massey's method\n",
    "We fit and test Massey's method.\n",
    "The ratings are:"
   ]
  },
  {
   "cell_type": "code",
   "execution_count": 11,
   "metadata": {
    "collapsed": false
   },
   "outputs": [
    {
     "data": {
      "text/plain": [
       "array([-3.06344955,  0.59700085, -0.79248948, -3.70908829,  4.15290164,\n",
       "        4.20645175,  7.71873052,  5.30366533,  2.06263017,  2.59554173,\n",
       "        3.97576665,  9.14876102, -1.17632727, -0.71331079,  6.98481012,\n",
       "        0.61105523,  7.1838404 , -3.18904026, -4.62127966, -1.24034038,\n",
       "       -3.30621509, -9.92497227, -5.45613373, -4.33858675, -0.43722181,\n",
       "       -6.44774069, -2.44624016,  3.66281954, -7.39404488,  0.05250612])"
      ]
     },
     "execution_count": 11,
     "metadata": {},
     "output_type": "execute_result"
    }
   ],
   "source": [
    "massey_model = rating_utils.MasseyMethod()\n",
    "massey_model.fit(train, rating_utils.get_teams(data))\n",
    "massey_model.ratings"
   ]
  },
  {
   "cell_type": "markdown",
   "metadata": {},
   "source": [
    "We can plot out a histogram for the ratings"
   ]
  },
  {
   "cell_type": "code",
   "execution_count": 42,
   "metadata": {
    "collapsed": false
   },
   "outputs": [
    {
     "data": {
      "image/png": "[encoded data removed]",
      "text/plain": [
       "<matplotlib.figure.Figure at 0x7f60ef23f550>"
      ]
     },
     "metadata": {},
     "output_type": "display_data"
    },
    {
     "data": {
      "text/plain": [
       "<ggplot: (8753394019481)>"
      ]
     },
     "execution_count": 42,
     "metadata": {},
     "output_type": "execute_result"
    }
   ],
   "source": [
    "# plt.hist(massey_model.ratings, bins=15)\n",
    "ggplot(pd.DataFrame({'rating': massey_model.ratings}), aes(x='rating')) \\\n",
    "    + geom_histogram(binwidth=1.4, fill='#33bbff') \\\n",
    "    + ylab('team count')"
   ]
  },
  {
   "cell_type": "markdown",
   "metadata": {},
   "source": [
    "We now compute the prediction error rate on training and test set"
   ]
  },
  {
   "cell_type": "code",
   "execution_count": 33,
   "metadata": {
    "collapsed": false
   },
   "outputs": [
    {
     "name": "stdout",
     "output_type": "stream",
     "text": [
      "0.215706806283 0.229927007299\n"
     ]
    }
   ],
   "source": [
    "print massey_model.test_error_rate(train), massey_model.test_error_rate(test)"
   ]
  }
 ],
 "metadata": {
  "kernelspec": {
   "display_name": "Python 2",
   "language": "python",
   "name": "python2"
  },
  "language_info": {
   "codemirror_mode": {
    "name": "ipython",
    "version": 2
   },
   "file_extension": ".py",
   "mimetype": "text/x-python",
   "name": "python",
   "nbconvert_exporter": "python",
   "pygments_lexer": "ipython2",
   "version": "2.7.11"
  }
 },
 "nbformat": 4,
 "nbformat_minor": 0
}
